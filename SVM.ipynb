{
 "cells": [
  {
   "cell_type": "code",
   "execution_count": 1,
   "metadata": {},
   "outputs": [],
   "source": [
    "import numpy as np\n",
    "import pandas as pd\n",
    "import matplotlib.pyplot as plt\n",
    "import nltk"
   ]
  },
  {
   "cell_type": "code",
   "execution_count": 2,
   "metadata": {},
   "outputs": [
    {
     "data": {
      "text/html": [
       "<div>\n",
       "<style scoped>\n",
       "    .dataframe tbody tr th:only-of-type {\n",
       "        vertical-align: middle;\n",
       "    }\n",
       "\n",
       "    .dataframe tbody tr th {\n",
       "        vertical-align: top;\n",
       "    }\n",
       "\n",
       "    .dataframe thead th {\n",
       "        text-align: right;\n",
       "    }\n",
       "</style>\n",
       "<table border=\"1\" class=\"dataframe\">\n",
       "  <thead>\n",
       "    <tr style=\"text-align: right;\">\n",
       "      <th></th>\n",
       "      <th>Review</th>\n",
       "      <th>Liked</th>\n",
       "    </tr>\n",
       "  </thead>\n",
       "  <tbody>\n",
       "    <tr>\n",
       "      <th>0</th>\n",
       "      <td>Wow... Loved this place.</td>\n",
       "      <td>1</td>\n",
       "    </tr>\n",
       "    <tr>\n",
       "      <th>1</th>\n",
       "      <td>Crust is not good.</td>\n",
       "      <td>0</td>\n",
       "    </tr>\n",
       "    <tr>\n",
       "      <th>2</th>\n",
       "      <td>Not tasty and the texture was just nasty.</td>\n",
       "      <td>0</td>\n",
       "    </tr>\n",
       "    <tr>\n",
       "      <th>3</th>\n",
       "      <td>Stopped by during the late May bank holiday of...</td>\n",
       "      <td>1</td>\n",
       "    </tr>\n",
       "    <tr>\n",
       "      <th>4</th>\n",
       "      <td>The selection on the menu was great and so wer...</td>\n",
       "      <td>1</td>\n",
       "    </tr>\n",
       "  </tbody>\n",
       "</table>\n",
       "</div>"
      ],
      "text/plain": [
       "                                              Review  Liked\n",
       "0                           Wow... Loved this place.      1\n",
       "1                                 Crust is not good.      0\n",
       "2          Not tasty and the texture was just nasty.      0\n",
       "3  Stopped by during the late May bank holiday of...      1\n",
       "4  The selection on the menu was great and so wer...      1"
      ]
     },
     "execution_count": 2,
     "metadata": {},
     "output_type": "execute_result"
    }
   ],
   "source": [
    "dataset=pd.read_csv('Restaurant_Reviews.tsv', delimiter='\\t', encoding='utf8')\n",
    "dataset.head()"
   ]
  },
  {
   "cell_type": "code",
   "execution_count": 3,
   "metadata": {},
   "outputs": [
    {
     "name": "stdout",
     "output_type": "stream",
     "text": [
      "['wow loved place', 'crust not good', 'not tasty texture nasty', 'stopped late may bank holiday rick steve recommendation loved', 'selection menu great price', 'getting angry want damn pho', 'honeslty taste fresh', 'potato like rubber could tell made ahead time kept warmer', 'fry great', 'great touch', 'service prompt', 'would not go back', 'cashier care ever say still ended wayyy overpriced', 'tried cape cod ravoli chicken cranberry mmmm', 'disgusted pretty sure human hair', 'shocked sign indicate cash', 'highly recommended', 'waitress little slow service', 'place not worth time let alone vega', 'not like', 'burrittos blah', 'food amazing', 'service also cute', 'could care le interior beautiful', 'performed', 'right red velvet cake ohhh stuff good', 'never brought salad asked', 'hole wall great mexican street taco friendly staff', 'took hour get food table restaurant food luke warm sever running around like totally overwhelmed', 'worst salmon sashimi', 'also combo like burger fry beer decent deal', 'like final blow', 'found place accident could not happier', 'seems like good quick place grab bite familiar pub food favor look elsewhere', 'overall like place lot', 'redeeming quality restaurant inexpensive', 'ample portion good price', 'poor service waiter made feel like stupid every time came table', 'first visit hiro delight', 'service suck', 'shrimp tender moist', 'not deal good enough would drag establishment', 'hard judge whether side good grossed melted styrofoam want eat fear getting sick', 'positive note server attentive provided great service', 'frozen puck disgust worst people behind register', 'thing like prime rib dessert section', 'bad food damn generic', 'burger good beef cooked right', 'want sandwich go firehouse', 'side greek salad greek dressing tasty pita hummus refreshing', 'ordered duck rare pink tender inside nice char outside', 'came running u realized husband left sunglass table', 'chow mein good', 'horrible attitude towards customer talk one customer enjoy food', 'portion huge', 'loved friendly server great food wonderful imaginative menu', 'heart attack grill downtown vega absolutely flat lined excuse restaurant', 'not much seafood like string pasta bottom', 'salad right amount sauce not power scallop perfectly cooked', 'ripped banana not ripped petrified tasteless', 'least think refill water struggle wave minute', 'place receives star appetizer', 'cocktail handmade delicious', 'definitely go back', 'glad found place', 'great food service huge portion give military discount', 'always great time do gringo', 'update went back second time still amazing', 'got food apparently never heard salt batter fish chewy', 'great way finish great', 'deal included tasting drink jeff went beyond expected', 'really really good rice time', 'service meh', 'took min get milkshake nothing chocolate milk', 'guess known place would suck inside excalibur use common sense', 'scallop dish quite appalling value well', 'time bad customer service', 'sweet potato fry good seasoned well', 'today second time lunch buffet pretty good', 'much good food vega feel cheated wasting eating opportunity going rice company', 'coming like experiencing underwhelming relationship party wait person ask break', 'walked place smelled like old grease trap others eating', 'turkey roast beef bland', 'place', 'pan cake everyone raving taste like sugary disaster tailored palate six year old', 'love pho spring roll oh yummy try', 'poor batter meat ratio made chicken tender unsatisfying', 'say food amazing', 'omelet die', 'everything fresh delicious', 'summary largely disappointing dining experience', 'like really sexy party mouth outrageously flirting hottest person party', 'never hard rock casino never ever step forward', 'best breakfast buffet', 'say bye bye tip lady', 'never go', 'back', 'food arrived quickly', 'not good', 'side cafe serf really good food', 'server fantastic found wife love roasted garlic bone marrow added extra meal another marrow go', 'good thing waiter helpful kept bloddy mary coming', 'best buffet town price cannot beat', 'loved mussel cooked wine reduction duck tender potato dish delicious', 'one better buffet', 'went tigerlilly fantastic afternoon', 'food delicious bartender attentive personable got great deal', 'ambience wonderful music playing', 'go back next trip', 'sooooo good', 'real sushi lover let honest yama not good', 'least min passed u ordering food arriving busy', 'really fantastic thai restaurant definitely worth visit', 'nice spicy tender', 'good price', 'check', 'pretty gross', 'better atmosphere', 'kind hard mess steak', 'although much liked look sound place actual experience bit disappointing', 'know place managed served blandest food ever eaten preparing indian cuisine', 'worst service boot least worry', 'service fine waitress friendly', 'guy steak steak loving son steak best worst place said best steak ever eaten', 'thought venture away get good sushi place really hit spot night', 'host staff lack better word bitch', 'bland not liking place number reason want waste time bad reviewing leave', 'phenomenal food service ambiance', 'return', 'definitely worth venturing strip pork belly return next time vega', 'place way overpriced mediocre food', 'penne vodka excellent', 'good selection food including massive meatloaf sandwich crispy chicken wrap delish tuna melt tasty burger', 'management rude', 'delicious nyc bagel good selection cream cheese real lox caper even', 'great subway fact good come every subway not meet expectation', 'seriously solid breakfast', 'one best bar food vega', 'extremely rude really many restaurant would love dine weekend vega', 'drink never empty made really great menu suggestion', '', 'waiter helpful friendly rarely checked u', 'husband ate lunch disappointed food service', 'red curry much bamboo shoot tasty', 'nice blanket moz top feel like done cover subpar food', 'bathroom clean place well decorated', 'menu always changing food quality going service extremely slow', 'service little slow considering served people server food coming slow pace', 'give thumb', 'watched waiter pay lot attention table ignore u', 'fianc came middle day greeted seated right away', 'great restaurant mandalay bay', 'waited forty five minute vain', 'crostini came salad stale', 'highlight great quality nigiri', 'staff friendly joint always clean', 'different cut piece day still wonderful tender well well flavored', 'ordered voodoo pasta first time really excellent pasta since going gluten free several year ago', 'place good', 'unfortunately must hit bakery leftover day everything ordered stale', 'came back today since relocated still not impressed', 'seated immediately', 'menu diverse reasonably priced', 'avoid cost', 'restaurant always full never wait', 'delicious', 'place hand one best place eat phoenix metro area', 'go looking good food', 'never treated bad', 'bacon hella salty', 'also ordered spinach avocado salad ingredient sad dressing literally zero taste', 'really vega fine dining used right menu handed lady price listed', 'waitress friendly', 'lordy khao soi dish not missed curry lover', 'everything menu terrific also thrilled made amazing accommodation vegetarian daughter', 'perhaps caught night judging review not inspired go back', 'service leaf lot desired', 'atmosphere modern hip maintaining touch coziness', 'not weekly haunt definitely place come back every', 'literally sat minute one asking take order', 'burger absolutely flavor meat totally bland burger overcooked charcoal flavor', 'also decided not send back waitress looked like verge heart attack', 'dressed treated rudely', 'probably dirt', 'love place hit spot want something healthy not lacking quantity flavor', 'ordered lemon raspberry ice cocktail also incredible', 'food sucked expected sucked could imagined', 'interesting decor', 'really like crepe station', 'also served hot bread butter home made potato chip bacon bit top original good', 'watch preparing delicious food', 'egg roll fantastic', 'order arrived one gyro missing', 'salad wing ice cream dessert left feeling quite satisfied', 'not really sure joey voted best hot dog valley reader phoenix magazine', 'best place go tasty bowl pho', 'live music friday totally blow', 'never insulted felt disrespected', 'friendly staff', 'worth drive', 'heard good thing place exceeding every hope could dreamed', 'food great serivce', 'warm beer help', 'great brunch spot', 'service friendly inviting', 'good lunch spot', 'lived since first last time stepped foot place', 'worst experience ever', 'must night place', 'side delish mixed mushroom yukon gold puree white corn beateous', 'bug never showed would given sure side wall bug climbing kitchen', 'minute waiting salad realized coming time soon', 'friend loved salmon tartar', 'go back', 'extremely tasty', 'waitress good though', 'soggy not good', 'jamaican mojitos delicious', 'small not worth price', 'food rich order accordingly', 'shower area outside rinse not take full shower unless mind nude everyone see', 'service bit lacking', 'lobster bisque bussell sprout risotto filet needed salt pepper course none table', 'hopefully bodes going business someone cook come', 'either cold not enough flavor bad', 'loved bacon wrapped date', 'unbelievable bargain', 'folk otto always make u feel welcome special', 'main also uninspired', 'place first pho amazing', 'wonderful experience made place must stop whenever town', 'food bad enough enjoy dealing world worst annoying drunk people', 'fun chef', 'ordered double cheeseburger got single patty falling apart picture uploaded yeah still suck', 'great place couple drink watch sporting event wall covered tv', 'possible give zero star', 'description said yum yum sauce another said eel sauce yet another said spicy mayo well none roll sauce', 'say would hardest decision honestly dish taste supposed taste amazing', 'not rolled eye may stayed not sure go back try', 'everyone attentive providing excellent customer service', 'horrible waste time money', 'dish quite flavourful', 'time side restaurant almost empty excuse', 'busy either also building freezing cold', 'like reviewer said pay eat place', 'drink took close minute come one point', 'seriously flavorful delight folk', 'much better ayce sushi place went vega', 'lighting dark enough set mood', 'based sub par service received effort show gratitude business going back', 'owner really great people', 'nothing privileged working eating', 'greek dressing creamy flavorful', 'overall think would take parent place made similar complaint silently felt', 'pizza good peanut sauce tasty', 'table service pretty fast', 'fantastic service', 'well would given godfather zero star possible', 'know make', 'tough short flavor', 'hope place stick around', 'bar vega not ever recall charged tap water', 'restaurant atmosphere exquisite', 'good service clean inexpensive boot', 'seafood fresh generous portion', 'plus buck', 'service not par either', 'thus far visited twice food absolutely delicious time', 'good year ago', 'self proclaimed coffee cafe wildly disappointed', 'veggitarian platter world', 'cant go wrong food', 'beat', 'stopped place madison ironman friendly kind staff', 'chef friendly good job', 'better not dedicated boba tea spot even jenni pho', 'liked patio service outstanding', 'goat taco skimp meat wow flavor', 'think not', 'mac salad pretty bland not getting', 'went bachi burger friend recommendation not disappointed', 'service stink', 'waited waited', 'place not quality sushi not quality restaurant', 'would definitely recommend wing well pizza', 'great pizza salad', 'thing went wrong burned saganaki', 'waited hour breakfast could done time better home', 'place amazing', 'hate disagree fellow yelpers husband disappointed place', 'waited hour never got either pizza many around u came later', 'know slow', 'staff great food delish incredible beer selection', 'live neighborhood disappointed back convenient location', 'know pulled pork could soooo delicious', 'get incredibly fresh fish prepared care', 'go gave star rating please know third time eating bachi burger writing review', 'love fact everything menu worth', 'never dining place', 'food excellent service good', 'good beer drink selection good food selection', 'please stay away shrimp stir fried noodle', 'potato chip order sad could probably count many chip box probably around', 'food really boring', 'good service check', 'greedy corporation never see another dime', 'never ever go back', 'much like go back get passed atrocious service never return', 'summer dine charming outdoor patio delightful', 'not expect good', 'fantastic food', 'ordered toasted english muffin came untoasted', 'food good', 'never going back', 'great food price high quality house made', 'bus boy hand rude', 'point friend basically figured place joke mind making publicly loudly known', 'back good bbq lighter fare reasonable pricing tell public back old way', 'considering two u left full happy go wrong', 'bread made house', 'downside service', 'also fry without doubt worst fry ever', 'service exceptional food good review', 'couple month later returned amazing meal', 'favorite place town shawarrrrrrma', 'black eyed pea sweet potato unreal', 'disappointed', 'could serve vinaigrette may make better overall dish still good', 'go far many place never seen restaurant serf egg breakfast especially', 'mom got home immediately got sick bite salad', 'server not pleasant deal always honor pizza hut coupon', 'truly unbelievably good glad went back', 'fantastic service pleased atmosphere', 'everything gross', 'love place', 'great service food', 'first bathroom location dirty seat cover not replenished plain yucky', 'burger got gold standard burger kind disappointed', 'omg food delicioso', 'nothing authentic place', 'spaghetti nothing special whatsoever', 'dish salmon best great', 'vegetable fresh sauce feel like authentic thai', 'worth driving tucson', 'selection probably worst seen vega none', 'pretty good beer selection', 'place like chipotle better', 'classy warm atmosphere fun fresh appetizer succulent steak baseball steak', 'star brick oven bread app', 'eaten multiple time time food delicious', 'sat another ten minute finally gave left', 'terrible', 'everyone treated equally special', 'take min pancake egg', 'delicious', 'good side staff genuinely pleasant enthusiastic real treat', 'sadly gordon ramsey steak place shall sharply avoid next trip vega', 'always evening wonderful food delicious', 'best fish ever life', 'bathroom next door nice', 'buffet small food offered bland', 'outstanding little restaurant best food ever tasted', 'pretty cool would say', 'definitely turn doubt back unless someone else buying', 'server great job handling large rowdy table', 'find wasting food despicable food', 'wife lobster bisque soup lukewarm', 'would come back sushi craving vega', 'staff great ambiance great', 'deserves star', 'left stomach ache felt sick rest day', 'dropped ball', 'dining space tiny elegantly decorated comfortable', 'customize order way like usual eggplant green bean stir fry love', 'bean rice mediocre best', 'best taco town far', 'took back money got outta', 'interesting part town place amazing', 'rude inconsiderate management', 'staff not friendly wait time served horrible one even say hi first minute', 'back', 'great dinner', 'service outshining definitely recommend halibut', 'food terrible', 'never ever go back told many people happened', 'recommend unless car break front starving', 'come back every time vega', 'place deserves one star food', 'disgrace', 'def coming back bowl next time', 'want healthy authentic ethic food try place', 'continue come lady night andddd date night highly recommend place anyone area', 'several time past experience always great', 'walked away stuffed happy first vega buffet experience', 'service excellent price pretty reasonable considering vega located inside crystal shopping mall aria', 'summarize food incredible nay transcendant nothing brings joy quite like memory pneumatic condiment dispenser', 'probably one people ever go ians not like', 'kid pizza always hit lot great side dish option kiddos', 'service perfect family atmosphere nice see', 'cooked perfection service impeccable', 'one simply disappointment', 'overall disappointed quality food bouchon', 'accountant know getting screwed', 'great place eat reminds little mom pop shop san francisco bay area', 'today first taste buldogis gourmet hot dog tell ever thought possible', 'left frustrated', 'definitely soon', 'food really good got full petty fast', 'service fantastic', 'total waste time', 'know kind best iced tea', 'come hungry leave happy stuffed', 'service give star', 'assure disappointed', 'take little bad service food suck', 'gave trying eat crust teeth still sore', 'completely grossed', 'really enjoyed eating', 'first time going think quickly become regular', 'server nice even though looked little overwhelmed need stayed professional friendly end', 'dinner companion told everything fresh nice texture taste', 'ground right next table large smeared stepped tracked everywhere pile green bird poop', 'furthermore even find hour operation website', 'tried like place time think done', 'mistake', 'complaint', 'seriously good pizza expert connisseur topic', 'waiter jerk', 'strike want rushed', 'nicest restaurant owner ever come across', 'never come', 'loved biscuit', 'service quick friendly', 'ordered appetizer took minute pizza another minute', 'absolutley fantastic', 'huge awkward lb piece cow th gristle fat', 'definitely come back', 'like steiner dark feel like bar', 'wow spicy delicious', 'not familiar check', 'take business dinner dollar elsewhere', 'love go back', 'anyway f restaurant wonderful breakfast lunch', 'nothing special', 'day week different deal delicious', 'not mention combination pear almond bacon big winner', 'not back', 'sauce tasteless', 'food delicious spicy enough sure ask spicier prefer way', 'ribeye steak cooked perfectly great mesquite flavor', 'think going back anytime soon', 'food gooodd', 'far sushi connoisseur definitely tell difference good food bad food certainly bad food', 'insulted', 'last time lunch bad', 'chicken wing contained driest chicken meat ever eaten', 'food good enjoyed every mouthful enjoyable relaxed venue couple small family group etc', 'nargile think great', 'best tater tot southwest', 'loved place', 'definitely not worth paid', 'vanilla ice cream creamy smooth profiterole chou pastry fresh enough', 'im az time new spot', 'manager worst', 'inside really quite nice clean', 'food outstanding price reasonable', 'think running back carly anytime soon food', 'due fact took minute acknowledged another minute get food kept forgetting thing', 'love margarita', 'first vega buffet not disappoint', 'good though', 'one note ventilation could use upgrading', 'great pork sandwich', 'waste time', 'total letdown would much rather go camelback flower shop cartel coffee', 'third cheese friend burger cold', 'enjoy pizza brunch', 'steak well trimmed also perfectly cooked', 'group claimed would handled u beautifully', 'loved', 'asked bill leave without eating bring either', 'place jewel la vega exactly hoping find nearly ten year living', 'seafood limited boiled shrimp crab leg crab leg definitely not taste fresh', 'selection food not best', 'delicious absolutely back', 'small family restaurant fine dining establishment', 'toro tartare cavier extraordinary liked thinly sliced wagyu white truffle', 'dont think back long time', 'attached gas station rarely good sign', 'awesome', 'back many time soon', 'menu much good stuff could not decide', 'worse humiliated worker right front bunch horrible name calling', 'conclusion filling meal', 'daily special always hit group', 'tragedy struck', 'pancake also really good pretty large', 'first crawfish experience delicious', 'monster chicken fried steak egg time favorite', 'waitress sweet funny', 'also taste mom multi grain pumpkin pancake pecan butter amazing fluffy delicious', 'rather eat airline food seriously', 'cant say enough good thing place', 'ambiance incredible', 'waitress manager friendly', 'would not recommend place', 'overall impressed noca', 'gyro basically lettuce', 'terrible service', 'thoroughly disappointed', 'much pasta love homemade hand made pasta thin pizza', 'give try happy', 'far best cheesecurds ever', 'reasonably priced also', 'everything perfect night', 'food good typical bar food', 'drive get', 'first glance lovely bakery cafe nice ambiance clean friendly staff', 'anyway not think go back', 'point finger item menu order disappointed', 'oh thing beauty restaurant', 'gone go', 'greasy unhealthy meal', 'first time might last', 'burger amazing', 'similarly delivery man not say word apology food minute late', 'way expensive', 'sure order dessert even need pack go tiramisu cannoli die', 'first time wait next', 'bartender also nice', 'everything good tasty', 'place two thumb way', 'best place vega breakfast check sat sun', 'love authentic mexican food want whole bunch interesting yet delicious meat choose need try place', 'terrible management', 'excellent new restaurant experienced frenchman', 'zero star would give zero star', 'great steak great side great wine amazing dessert', 'worst martini ever', 'steak shrimp opinion best entree gc', 'opportunity today sample amazing pizza', 'waited thirty minute seated although vacant table folk waiting', 'yellowtail carpaccio melt mouth fresh', 'try going back even empty', 'going eat potato found stranger hair', 'spicy enough perfect actually', 'last night second time dining happy decided go back', 'not even hello right', 'dessert bit strange', 'boyfriend came first time recent trip vega could not pleased quality food service', 'really recommend place go wrong donut place', 'nice ambiance', 'would recommend saving room', 'guess maybe went night disgraceful', 'however recent experience particular location not good', 'know not like restaurant something', 'avoid establishment', 'think restaurant suffers not trying hard enough', 'tapa dish delicious', 'heart place', 'salad bland vinegrette baby green heart palm', 'two felt disgusting', 'good time', 'believe place great stop huge belly hankering sushi', 'generous portion great taste', 'never go back place never ever recommended place anyone', 'server went back forth several time not even much helped', 'food delicious', 'hour seriously', 'consider theft', 'eew location need complete overhaul', 'recently witnessed poor quality management towards guest well', 'waited waited waited', 'also came back check u regularly excellent service', 'server super nice checked u many time', 'pizza tasted old super chewy not good way', 'swung give try deeply disappointed', 'service good company better', 'staff also friendly efficient', 'service fan quick served nice folk', 'boy sucker dry', 'rated', 'look authentic thai food go else', 'steak recommended', 'pulled car waited another minute acknowledged', 'great food great service clean friendly setting', 'assure back', 'hate thing much cheap quality black olive', 'breakfast perpared great beautiful presentation giant slice toast lightly dusted powdered sugar', 'kid play area nasty', 'great place fo take eat', 'waitress friendly happy accomodate vegan veggie option', 'omg felt like never eaten thai food dish', 'extremely crumby pretty tasteless', 'pale color instead nice char flavor', 'crouton also taste homemade extra plus', 'got home see driest damn wing ever', 'regular stop trip phoenix', 'really enjoyed crema caf expanded even told friend best breakfast', 'not good money', 'miss wish one philadelphia', 'got sitting fairly fast ended waiting minute place order another minute food arrived', 'also best cheese crisp town', 'good value great food great service', 'ask satisfying meal', 'food good', 'awesome', 'wanted leave', 'made drive way north scottsdale not one bit disappointed', 'not eating', 'owner really really need quit soooooo cheap let wrap freaking sandwich two paper not one', 'checked place couple year ago not impressed', 'chicken got definitely reheated ok wedge cold soggy', 'sorry not getting food anytime soon', 'absolute must visit', 'cow tongue cheek taco amazing', 'friend not like bloody mary', 'despite hard rate business actually rare give star', 'really want make experience good one', 'not return', 'chicken pho tasted bland', 'disappointing', 'grilled chicken tender yellow saffron seasoning', 'drive thru mean not want wait around half hour food somehow end going make u wait wait', 'pretty awesome place', 'ambience perfect', 'best luck rude non customer service focused new management', 'grandmother make roasted chicken better one', 'asked multiple time wine list time ignored went hostess got one', 'staff always super friendly helpful especially cool bring two small boy baby', 'four star food guy blue shirt great vibe still letting u eat', 'roast beef sandwich tasted really good', 'evening drastically sick', 'high quality chicken chicken caesar salad', 'ordered burger rare came done', 'promptly greeted seated', 'tried go lunch madhouse', 'proven dead wrong sushi bar not quality great service fast food impeccable', 'waiting hour seated not greatest mood', 'good joint', 'macarons insanely good', 'not eating', 'waiter attentive friendly informative', 'maybe cold would somewhat edible', 'place lot promise fails deliver', 'bad experience', 'mistake', 'food average best', 'great food', 'going back anytime soon', 'disappointed ordered big bay plater', 'great place relax awesome burger beer', 'perfect sit family meal get together friend', 'not much flavor poorly constructed', 'patio seating comfortable', 'fried rice dry well', 'hand favorite italian restaurant', 'scream legit book somethat also pretty rare vega', 'not fun experience', 'atmosphere great lovely duo violinist playing song requested', 'personally love hummus pita baklava falafel baba ganoush amazing eggplant', 'convenient since staying mgm', 'owner super friendly staff courteous', 'great', 'eclectic selection', 'sweet potato tot good onion ring perfection close', 'staff attentive', 'chef generous time even came around twice take picture', 'owner used work nobu place really similar half price', 'google mediocre imagine smashburger pop', 'dont go', 'promise disappoint', 'sushi lover avoid place mean', 'great double cheeseburger', 'awesome service food', 'fantastic neighborhood gem', 'wait go back', 'plantain worst ever tasted', 'great place highly recommend', 'service slow not attentive', 'gave star giving star', 'staff spends time talking', 'dessert panna cotta amazing', 'good food great atmosphere', 'damn good steak', 'total brunch fail', 'price reasonable flavor spot sauce home made slaw not drenched mayo', 'decor nice piano music soundtrack pleasant', 'steak amazing rge fillet relleno best seafood plate ever', 'good food good service', 'absolutely amazing', 'probably back honest', 'definitely back', 'sergeant pepper beef sandwich auju sauce excellent sandwich well', 'hawaiian breeze mango magic pineapple delight smoothy tried far good', 'went lunch service slow', 'much say place walked expected amazing quickly disappointed', 'mortified', 'needle say never back', 'anyways food definitely not filling price pay expect', 'chip came dripping grease mostly not edible', 'really impressed strip steak', 'going since every meal awesome', 'server nice attentive serving staff', 'cashier friendly even brought food', 'work hospitality industry paradise valley refrained recommending cibo longer', 'atmosphere fun', 'would not recommend others', 'service quick even go order like like', 'mean really get famous fish chip terrible', 'said mouth belly still quite pleased', 'not thing', 'thumb', 'reading please go', 'loved grilled pizza reminded legit italian pizza', 'pro large seating area nice bar area great simple drink menu best brick oven pizza homemade dough', 'really nice atmosphere', 'tonight elk filet special sucked', 'one bite hooked', 'ordered old classic new dish going time sorely disappointed everything', 'cute quaint simple honest', 'chicken deliciously seasoned perfect fry outside moist chicken inside', 'food great always compliment chef', 'special thanks dylan recommendation order yummy tummy', 'awesome selection beer', 'great food awesome service', 'one nice thing added gratuity bill since party larger expect tip', 'fly apple juice fly', 'han nan chicken also tasty', 'service thought good', 'food barely lukewarm must sitting waiting server bring u', 'ryan bar definitely one edinburgh establishment revisiting', 'nicest chinese restaurant', 'overall like food service', 'also serve indian naan bread hummus spicy pine nut sauce world', 'probably never coming back recommend', 'friend pasta also bad barely touched', 'try airport experience tasty food speedy friendly service', 'love decor chinese calligraphy wall paper', 'never anything complain', 'restaurant clean family restaurant feel', 'way fried', 'not sure long stood long enough begin feel awkwardly place', 'opened sandwich impressed not good way', 'not back', 'warm feeling service felt like guest special treat', 'extensive menu provides lot option breakfast', 'always order vegetarian menu dinner wide array option choose', 'watched price inflate portion get smaller management attitude grow rapidly', 'wonderful lil tapa ambience made feel warm fuzzy inside', 'got enjoy seafood salad fabulous vinegrette', 'wonton thin not thick chewy almost melt mouth', 'level spicy perfect spice whelm soup', 'sat right time server get go fantastic', 'main thing enjoy crowd older crowd around mid', 'side town definitely spot hit', 'wait minute get drink longer get arepas', 'great place eat', 'jalapeno bacon soooo good', 'service poor thats nice', 'food good service good price good', 'place not clean food oh stale', 'chicken dish ok beef like shoe leather', 'service beyond bad', 'happy', 'tasted like dirt', 'one place phoenix would definately go back', 'block amazing', 'close house low key non fancy affordable price good food', 'hot sour egg flower soup absolutely star', 'sashimi poor quality soggy tasteless', 'great time family dinner sunday night', 'food not tasty not say real traditional hunan style', 'bother slow service', 'flair bartender absolutely amazing', 'frozen margarita way sugary taste', 'good ordered twice', 'nutshell restaraunt smell like combination dirty fish market sewer', 'girlfriend veal bad', 'unfortunately not good', 'pretty satifying experience', 'join club get awesome offer via email', 'perfect someone like beer ice cold case even colder', 'bland flavorless good way describing barely tepid meat', 'chain fan beat place easily', 'nacho must', 'not coming back', 'many word say place everything pretty well', 'staff super nice quick even crazy crowd downtown jury lawyer court staff', 'great atmosphere friendly fast service', 'received pita huge lot meat thumb', 'food arrives meh', 'paying hot dog fry look like came kid meal wienerschnitzel not idea good meal', 'classic maine lobster roll fantastic', 'brother law work mall ate day guess sick night', 'good going review place twice hereas tribute place tribute event held last night', 'chip salsa really good salsa fresh', 'place great', 'mediocre food', 'get inside impressed place', 'super pissd', 'service super friendly', 'sad little vegetable overcooked', 'place nice surprise', 'golden crispy delicious', 'high hope place since burger cooked charcoal grill unfortunately taste fell flat way flat', 'could eat bruschetta day devine', 'not single employee came see ok even needed water refill finally served u food', 'lastly mozzarella stick best thing ordered', 'first time ever came amazing experience still tell people awesome duck', 'server negligent need made u feel unwelcome would not suggest place', 'service terrible though', 'place overpriced not consistent boba really overpriced', 'packed', 'love place', 'say dessert yummy', 'food terrible', 'seasonal fruit fresh white peach puree', 'kept getting worse worse officially done', 'place honestly blown', 'definitely would not eat', 'not waste money', 'love put food nice plastic container opposed cramming little paper takeout box', 'cr pe delicate thin moist', 'awful service', 'ever go', 'food quality horrible', 'price think place would much rather gone', 'service fair best', 'love sushi found kabuki priced hip service', 'favor stay away dish', 'poor service', 'one table thought food average worth wait', 'best service food ever maria server good friendly made day', 'excellent', 'paid bill not tip felt server terrible job', 'lunch great experience', 'never bland food surprised considering article read focused much spice flavor', 'food way overpriced portion fucking small', 'recently tried caballero back every week since', 'buck head really expect better food', 'food came good pace', 'ate twice last visit especially enjoyed salmon salad', 'back', 'could not believe dirty oyster', 'place deserves star', 'would not recommend place', 'fact going round star awesome', 'disbelief dish qualified worst version food ever tasted', 'bad day not low tolerance rude customer service people job nice polite wash dish otherwise', 'potato great biscuit', 'probably would not go', 'flavorful perfect amount heat', 'price reasonable service great', 'wife hated meal coconut shrimp friend really not enjoy meal either', 'fella got huevos rancheros look appealing', 'went happy hour great list wine', 'may say buffet pricey think get pay place getting quite lot', 'probably coming back', 'worst food service', 'place pretty good nice little vibe restaurant', 'talk great customer service course back', 'hot dish not hot cold dish close room temp watched staff prepare food bare hand glove everything deep fried oil', 'love fry bean', 'always pleasure dealing', 'plethora salad sandwich everything tried get seal approval', 'place awesome want something light healthy summer', 'sushi strip place go', 'service great even manager came helped table', 'feel dining room college cooking course high class dining service slow best', 'started review two star editing give one', 'worst sushi ever eat besides costco', 'excellent restaurant highlighted great service unique menu beautiful setting', 'boyfriend sat bar completely delightful experience', 'weird vibe owner', 'hardly meat', 'better bagel grocery store', 'go place gyro', 'love owner chef one authentic japanese cool dude', 'burger good pizza used amazing doughy flavorless', 'found six inch long piece wire salsa', 'service terrible food mediocre', 'definately enjoyed', 'ordered albondigas soup warm tasted like tomato soup frozen meatball', 'three different occasion asked well done medium well three time got bloodiest piece meat plate', 'two bite refused eat anymore', 'service extremely slow', 'minute wait got table', 'seriously killer hot chai latte', 'allergy warning menu waitress absolutely clue meal not contain peanut', 'boyfriend tried mediterranean chicken salad fell love', 'rotating beer tap also highlight place', 'pricing bit concern mellow mushroom', 'worst thai ever', 'stay vega must get breakfast least', 'want first say server great perfect service', 'pizza selection good', 'strawberry tea good', 'highly unprofessional rude loyal patron', 'overall great experience', 'spend money elsewhere', 'regular toasted bread equally satisfying occasional pat butter mmmm', 'buffet bellagio far anticipated', 'drink weak people', 'order not correct', 'also feel like chip bought not made house', 'disappointing dinner went elsewhere dessert', 'chip sals amazing', 'returning', 'new fav vega buffet spot', 'seriously cannot believe owner many unexperienced employee running around like chicken head cut', 'sad', 'felt insulted disrespected could talk judge another human like', 'call steakhouse properly cook steak understand', 'not impressed concept food', 'thing crazy guacamole like pur ed', 'really nothing postinos hope experience better', 'got food poisoning buffet', 'brought fresh batch fry thinking yay something warm', 'hilarious yummy christmas eve dinner remember biggest fail entire trip u', 'needle say going back anytime soon', 'place disgusting', 'every time eat see caring teamwork professional degree', 'ri style calamari joke', 'however much garlic fondue barely edible', 'could barely stomach meal complain business lunch', 'bad lost heart finish', 'also took forever bring u check asked', 'one make scene restaurant get definitely lost love one', 'disappointing experience', 'food par denny say not good', 'want wait mediocre food downright terrible service place', 'waaaaaayyyyyyyyyy rated saying', 'going back', 'place fairly clean food simply worth', 'place lacked style', 'sangria half glass wine full ridiculous', 'bother coming', 'meat pretty dry sliced brisket pulled pork', 'building seems pretty neat bathroom pretty trippy eat', 'equally awful', 'probably not hurry go back', 'slow seating even reservation', 'not good stretch imagination', 'cashew cream sauce bland vegetable undercooked', 'chipolte ranch dipping sause tasteless seemed thin watered heat', 'bit sweet not really spicy enough lacked flavor', 'disappointed', 'place horrible way overpriced', 'maybe vegetarian fare twice thought average best', 'busy know', 'table outside also dirty lot time worker not always friendly helpful menu', 'ambiance not feel like buffet setting douchey indoor garden tea biscuit', 'con spotty service', 'fry not hot neither burger', 'came back cold', 'food came disappointment ensued', 'real disappointment waiter', 'husband said rude not even apologize bad food anything', 'reason eat would fill night binge drinking get carbs stomach', 'insult profound deuchebaggery go outside smoke break serving solidify', 'someone order two taco think may part customer service ask combo ala cart', 'quite disappointed although blame need placed door', 'rave review wait eat disappointment', 'del taco pretty nasty avoided possible', 'not hard make decent hamburger', 'like', 'hell go back', 'gotten much better service pizza place next door service received restaurant', 'know big deal place back ya', 'immediately said wanted talk manager not want talk guy shot fireball behind bar', 'ambiance much better', 'unfortunately set u disapppointment entree', 'food good', 'server suck wait correction server heimer sucked', 'happened next pretty putting', 'bad cause know family owned really wanted like place', 'overpriced getting', 'vomited bathroom mid lunch', 'kept looking time soon become minute yet still food', 'place eat circumstance would ever return top list', 'started tuna sashimi brownish color obviously fresh', 'food average', 'sure beat nacho movie would expect little bit coming restaurant', 'ha long bay bit flop', 'problem charge sandwich bigger subway sub offer better amount vegetable', 'shrimp unwrapped live mile brushfire literally ice cold', 'lacked flavor seemed undercooked dry', 'really impressive place closed', 'would avoid place staying mirage', 'refried bean came meal dried crusty food bland', 'spend money time place else', 'lady table next u found live green caterpillar salad', 'presentation food awful', 'tell disappointed', 'think food flavor texture lacking', 'appetite instantly gone', 'overall not impressed would not go back', 'whole experience underwhelming think go ninja sushi next time', 'wasted enough life poured salt wound drawing time took bring check']\n"
     ]
    }
   ],
   "source": [
    "import re\n",
    "from nltk.corpus import stopwords\n",
    "from nltk.stem.wordnet import WordNetLemmatizer\n",
    "ls= WordNetLemmatizer()\n",
    "corpus=[]\n",
    "for i in range(0,1000):\n",
    "    review=re.sub('[^a-zA-Z]',' ', dataset['Review'][i])\n",
    "    review=review.lower()\n",
    "    review=review.split()\n",
    "    all_stopwords=stopwords.words('english')\n",
    "    all_stopwords.remove('not')\n",
    "    review=[ls.lemmatize(word) for word in review if not word in set(all_stopwords)]\n",
    "    review=' '.join(review)\n",
    "    corpus.append(review)\n",
    "print(corpus)"
   ]
  },
  {
   "cell_type": "code",
   "execution_count": 4,
   "metadata": {},
   "outputs": [
    {
     "data": {
      "text/plain": [
       "1767"
      ]
     },
     "execution_count": 4,
     "metadata": {},
     "output_type": "execute_result"
    }
   ],
   "source": [
    "from sklearn.feature_extraction.text import CountVectorizer\n",
    "cv=CountVectorizer()\n",
    "x=cv.fit_transform(corpus).toarray()\n",
    "y=dataset.iloc[:,-1].values\n",
    "len(x[0])"
   ]
  },
  {
   "cell_type": "code",
   "execution_count": 5,
   "metadata": {},
   "outputs": [
    {
     "data": {
      "text/plain": [
       "1566"
      ]
     },
     "execution_count": 5,
     "metadata": {},
     "output_type": "execute_result"
    }
   ],
   "source": [
    "from sklearn.feature_extraction.text import CountVectorizer\n",
    "cv=CountVectorizer(max_features=1566)\n",
    "x=cv.fit_transform(corpus).toarray()\n",
    "y=dataset.iloc[:,-1].values\n",
    "len(x[0])"
   ]
  },
  {
   "cell_type": "code",
   "execution_count": 6,
   "metadata": {},
   "outputs": [],
   "source": [
    "from sklearn.model_selection import train_test_split\n",
    "x_train,x_test,y_train,y_test=train_test_split(x,y,test_size=0.15,random_state=881)"
   ]
  },
  {
   "cell_type": "code",
   "execution_count": 7,
   "metadata": {},
   "outputs": [
    {
     "name": "stdout",
     "output_type": "stream",
     "text": [
      "[1 0 1 0 1 0 0 1 0 0 1 1 1 0 0 1 1 0 0 0 0 1 1 0 1 0 1 1 0 1 1 0 0 0 1 0 0\n",
      " 1 0 1 0 1 0 0 1 1 0 0 0 1 0 1 0 0 1 1 0 1 0 0 0 0 0 1 1 1 0 1 0 1 1 0 1 1\n",
      " 1 0 0 0 1 0 0 0 1 0 0 0 1 1 0 0 0 0 1 0 1 1 0 0 1 1 1 0 0 0 1 0 0 1 0 0 1\n",
      " 0 0 1 0 1 1 0 0 0 0 0 1 0 1 0 0 0 0 1 0 1 1 1 0 1 1 1 0 0 0 1 0 0 1 1 0 0\n",
      " 1 1]\n"
     ]
    }
   ],
   "source": [
    "from sklearn.svm import SVC\n",
    "clf=SVC(kernel='sigmoid',C=1)\n",
    "clf.fit(x_train,y_train)\n",
    "y_pred=clf.predict(x_test)\n",
    "print(y_pred)\n"
   ]
  },
  {
   "cell_type": "code",
   "execution_count": 8,
   "metadata": {},
   "outputs": [
    {
     "name": "stdout",
     "output_type": "stream",
     "text": [
      "0.9066666666666666\n"
     ]
    }
   ],
   "source": [
    "from sklearn.metrics import accuracy_score\n",
    "acc=accuracy_score(y_test,y_pred)\n",
    "print(acc)"
   ]
  },
  {
   "cell_type": "code",
   "execution_count": 12,
   "metadata": {},
   "outputs": [
    {
     "name": "stdout",
     "output_type": "stream",
     "text": [
      "Enter your review:amazing ambience and great service\n",
      "amazing ambience great service\n",
      "[1]\n",
      "Yayyyy!! customer gave a good review!\n"
     ]
    }
   ],
   "source": [
    "import re\n",
    "import nltk\n",
    "from nltk.corpus import stopwords\n",
    "from nltk.tokenize import word_tokenize\n",
    "from nltk.stem.wordnet import WordNetLemmatizer\n",
    "ls= WordNetLemmatizer()\n",
    "text=input(\"Enter your review:\")\n",
    "text=re.sub('[^a-zA-Z]',' ', text)\n",
    "text=text.lower()\n",
    "text=text.split()\n",
    "ls=WordNetLemmatizer()\n",
    "all_stopwords=stopwords.words('english')\n",
    "all_stopwords.remove('not')\n",
    "text=[ls.lemmatize(word) for word in text if not word in set(all_stopwords)]\n",
    "text=' '.join(text)\n",
    "print(text)\n",
    "corpus.append(text)\n",
    "\n",
    "def usercheck():\n",
    "    \n",
    "    from sklearn.feature_extraction.text import CountVectorizer\n",
    "    cv=CountVectorizer(max_features=1566)\n",
    "    x=cv.fit_transform(corpus).toarray()\n",
    "    pred=clf.predict([x[-1]])\n",
    "    print(pred)\n",
    "    if pred==1:\n",
    "        print(\"Yayyyy!! customer gave a good review!\")\n",
    "    else:\n",
    "        print(\"Damn,customer gave a bad review !\")\n",
    "\n",
    "usercheck()\n"
   ]
  },
  {
   "cell_type": "code",
   "execution_count": null,
   "metadata": {},
   "outputs": [],
   "source": []
  },
  {
   "cell_type": "code",
   "execution_count": null,
   "metadata": {},
   "outputs": [],
   "source": []
  }
 ],
 "metadata": {
  "kernelspec": {
   "display_name": "Python 3",
   "language": "python",
   "name": "python3"
  },
  "language_info": {
   "codemirror_mode": {
    "name": "ipython",
    "version": 3
   },
   "file_extension": ".py",
   "mimetype": "text/x-python",
   "name": "python",
   "nbconvert_exporter": "python",
   "pygments_lexer": "ipython3",
   "version": "3.7.7"
  }
 },
 "nbformat": 4,
 "nbformat_minor": 4
}
